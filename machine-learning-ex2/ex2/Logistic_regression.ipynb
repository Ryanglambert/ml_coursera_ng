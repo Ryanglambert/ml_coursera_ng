{
 "cells": [
  {
   "cell_type": "code",
   "execution_count": 3,
   "metadata": {
    "collapsed": true
   },
   "outputs": [],
   "source": [
    "data = load('ex2data1.txt');"
   ]
  },
  {
   "cell_type": "code",
   "execution_count": 46,
   "metadata": {
    "collapsed": true
   },
   "outputs": [],
   "source": [
    "X = data(:, [1, 2]); y = data(:, 3);"
   ]
  },
  {
   "cell_type": "code",
   "execution_count": 50,
   "metadata": {
    "collapsed": false
   },
   "outputs": [
    {
     "data": {
      "image/svg+xml": [
       "<svg height=\"420px\" viewBox=\"0 0 576 432\" width=\"560px\" xmlns=\"http://www.w3.org/2000/svg\" xmlns:xlink=\"http://www.w3.org/1999/xlink\">\n",
       "\n",
       "<title>Gnuplot</title>\n",
       "<desc>Produced by GNUPLOT 5.0 patchlevel 3 </desc>\n",
       "\n",
       "<g id=\"gnuplot_canvas\">\n",
       "\n",
       "<rect fill=\"none\" height=\"432\" width=\"576\" x=\"0\" y=\"0\"/>\n",
       "<defs>\n",
       "\n",
       "\t<circle id=\"gpDot\" r=\"0.5\" stroke-width=\"0.5\"/>\n",
       "\t<path d=\"M-1,0 h2 M0,-1 v2\" id=\"gpPt0\" stroke=\"currentColor\" stroke-width=\"0.333\"/>\n",
       "\t<path d=\"M-1,-1 L1,1 M1,-1 L-1,1\" id=\"gpPt1\" stroke=\"currentColor\" stroke-width=\"0.333\"/>\n",
       "\t<path d=\"M-1,0 L1,0 M0,-1 L0,1 M-1,-1 L1,1 M-1,1 L1,-1\" id=\"gpPt2\" stroke=\"currentColor\" stroke-width=\"0.333\"/>\n",
       "\t<rect height=\"2\" id=\"gpPt3\" stroke=\"currentColor\" stroke-width=\"0.333\" width=\"2\" x=\"-1\" y=\"-1\"/>\n",
       "\t<rect fill=\"currentColor\" height=\"2\" id=\"gpPt4\" stroke=\"currentColor\" stroke-width=\"0.333\" width=\"2\" x=\"-1\" y=\"-1\"/>\n",
       "\t<circle cx=\"0\" cy=\"0\" id=\"gpPt5\" r=\"1\" stroke=\"currentColor\" stroke-width=\"0.333\"/>\n",
       "\t<use fill=\"currentColor\" id=\"gpPt6\" stroke=\"none\" xlink:href=\"#gpPt5\"/>\n",
       "\t<path d=\"M0,-1.33 L-1.33,0.67 L1.33,0.67 z\" id=\"gpPt7\" stroke=\"currentColor\" stroke-width=\"0.333\"/>\n",
       "\t<use fill=\"currentColor\" id=\"gpPt8\" stroke=\"none\" xlink:href=\"#gpPt7\"/>\n",
       "\t<use id=\"gpPt9\" stroke=\"currentColor\" transform=\"rotate(180)\" xlink:href=\"#gpPt7\"/>\n",
       "\t<use fill=\"currentColor\" id=\"gpPt10\" stroke=\"none\" xlink:href=\"#gpPt9\"/>\n",
       "\t<use id=\"gpPt11\" stroke=\"currentColor\" transform=\"rotate(45)\" xlink:href=\"#gpPt3\"/>\n",
       "\t<use fill=\"currentColor\" id=\"gpPt12\" stroke=\"none\" xlink:href=\"#gpPt11\"/>\n",
       "\t<path d=\"M0,1.330 L1.265,0.411 L0.782,-1.067 L-0.782,-1.076 L-1.265,0.411 z\" id=\"gpPt13\" stroke=\"currentColor\" stroke-width=\"0.333\"/>\n",
       "\t<use fill=\"currentColor\" id=\"gpPt14\" stroke=\"none\" xlink:href=\"#gpPt13\"/>\n",
       "\t<filter filterUnits=\"objectBoundingBox\" height=\"1\" id=\"textbox\" width=\"1\" x=\"0\" y=\"0\">\n",
       "\t  <feFlood flood-color=\"white\" flood-opacity=\"1\" result=\"bgnd\"/>\n",
       "\t  <feComposite in=\"SourceGraphic\" in2=\"bgnd\" operator=\"atop\"/>\n",
       "\t</filter>\n",
       "\t<filter filterUnits=\"objectBoundingBox\" height=\"1\" id=\"greybox\" width=\"1\" x=\"0\" y=\"0\">\n",
       "\t  <feFlood flood-color=\"lightgrey\" flood-opacity=\"1\" result=\"grey\"/>\n",
       "\t  <feComposite in=\"SourceGraphic\" in2=\"grey\" operator=\"atop\"/>\n",
       "\t</filter>\n",
       "</defs>\n",
       "<g color=\"white\" fill=\"none\" stroke=\"currentColor\" stroke-linecap=\"butt\" stroke-linejoin=\"miter\" stroke-width=\"1.00\">\n",
       "</g>\n",
       "<g color=\"black\" fill=\"none\" stroke=\"currentColor\" stroke-linecap=\"butt\" stroke-linejoin=\"miter\" stroke-width=\"1.00\">\n",
       "\t<g shape-rendering=\"crispEdges\" stroke=\"none\">\n",
       "\t\t<polygon fill=\"rgb(255, 255, 255)\" points=\"30.8,408.0 559.0,408.0 559.0,11.4 30.8,11.4 \"/>\n",
       "\t</g>\n",
       "</g>\n",
       "<g color=\"black\" fill=\"none\" stroke=\"rgb(255, 255, 255)\" stroke-linecap=\"butt\" stroke-linejoin=\"miter\" stroke-width=\"0.50\">\n",
       "</g>\n",
       "<g color=\"black\" fill=\"none\" stroke=\"currentColor\" stroke-linecap=\"butt\" stroke-linejoin=\"miter\" stroke-width=\"0.50\">\n",
       "\t<path d=\"M30.8,408.0 L39.2,408.0 M559.1,408.0 L550.7,408.0  \" stroke=\"black\"/>\t<g fill=\"rgb(0,0,0)\" font-family=\"{}\" font-size=\"10.00\" stroke=\"none\" text-anchor=\"end\" transform=\"translate(25.2,411.7)\">\n",
       "\t\t<text><tspan font-family=\"{}\">30</tspan></text>\n",
       "\t</g>\n",
       "</g>\n",
       "<g color=\"black\" fill=\"none\" stroke=\"currentColor\" stroke-linecap=\"butt\" stroke-linejoin=\"miter\" stroke-width=\"0.50\">\n",
       "\t<path d=\"M30.8,351.3 L39.2,351.3 M559.1,351.3 L550.7,351.3  \" stroke=\"black\"/>\t<g fill=\"rgb(0,0,0)\" font-family=\"{}\" font-size=\"10.00\" stroke=\"none\" text-anchor=\"end\" transform=\"translate(25.2,355.0)\">\n",
       "\t\t<text><tspan font-family=\"{}\">40</tspan></text>\n",
       "\t</g>\n",
       "</g>\n",
       "<g color=\"black\" fill=\"none\" stroke=\"currentColor\" stroke-linecap=\"butt\" stroke-linejoin=\"miter\" stroke-width=\"0.50\">\n",
       "\t<path d=\"M30.8,294.7 L39.2,294.7 M559.1,294.7 L550.7,294.7  \" stroke=\"black\"/>\t<g fill=\"rgb(0,0,0)\" font-family=\"{}\" font-size=\"10.00\" stroke=\"none\" text-anchor=\"end\" transform=\"translate(25.2,298.4)\">\n",
       "\t\t<text><tspan font-family=\"{}\">50</tspan></text>\n",
       "\t</g>\n",
       "</g>\n",
       "<g color=\"black\" fill=\"none\" stroke=\"currentColor\" stroke-linecap=\"butt\" stroke-linejoin=\"miter\" stroke-width=\"0.50\">\n",
       "\t<path d=\"M30.8,238.0 L39.2,238.0 M559.1,238.0 L550.7,238.0  \" stroke=\"black\"/>\t<g fill=\"rgb(0,0,0)\" font-family=\"{}\" font-size=\"10.00\" stroke=\"none\" text-anchor=\"end\" transform=\"translate(25.2,241.7)\">\n",
       "\t\t<text><tspan font-family=\"{}\">60</tspan></text>\n",
       "\t</g>\n",
       "</g>\n",
       "<g color=\"black\" fill=\"none\" stroke=\"currentColor\" stroke-linecap=\"butt\" stroke-linejoin=\"miter\" stroke-width=\"0.50\">\n",
       "\t<path d=\"M30.8,181.3 L39.2,181.3 M559.1,181.3 L550.7,181.3  \" stroke=\"black\"/>\t<g fill=\"rgb(0,0,0)\" font-family=\"{}\" font-size=\"10.00\" stroke=\"none\" text-anchor=\"end\" transform=\"translate(25.2,185.0)\">\n",
       "\t\t<text><tspan font-family=\"{}\">70</tspan></text>\n",
       "\t</g>\n",
       "</g>\n",
       "<g color=\"black\" fill=\"none\" stroke=\"currentColor\" stroke-linecap=\"butt\" stroke-linejoin=\"miter\" stroke-width=\"0.50\">\n",
       "\t<path d=\"M30.8,124.6 L39.2,124.6 M559.1,124.6 L550.7,124.6  \" stroke=\"black\"/>\t<g fill=\"rgb(0,0,0)\" font-family=\"{}\" font-size=\"10.00\" stroke=\"none\" text-anchor=\"end\" transform=\"translate(25.2,128.3)\">\n",
       "\t\t<text><tspan font-family=\"{}\">80</tspan></text>\n",
       "\t</g>\n",
       "</g>\n",
       "<g color=\"black\" fill=\"none\" stroke=\"currentColor\" stroke-linecap=\"butt\" stroke-linejoin=\"miter\" stroke-width=\"0.50\">\n",
       "\t<path d=\"M30.8,68.0 L39.2,68.0 M559.1,68.0 L550.7,68.0  \" stroke=\"black\"/>\t<g fill=\"rgb(0,0,0)\" font-family=\"{}\" font-size=\"10.00\" stroke=\"none\" text-anchor=\"end\" transform=\"translate(25.2,71.7)\">\n",
       "\t\t<text><tspan font-family=\"{}\">90</tspan></text>\n",
       "\t</g>\n",
       "</g>\n",
       "<g color=\"black\" fill=\"none\" stroke=\"currentColor\" stroke-linecap=\"butt\" stroke-linejoin=\"miter\" stroke-width=\"0.50\">\n",
       "\t<path d=\"M30.8,11.3 L39.2,11.3 M559.1,11.3 L550.7,11.3  \" stroke=\"black\"/>\t<g fill=\"rgb(0,0,0)\" font-family=\"{}\" font-size=\"10.00\" stroke=\"none\" text-anchor=\"end\" transform=\"translate(25.2,15.0)\">\n",
       "\t\t<text><tspan font-family=\"{}\">100</tspan></text>\n",
       "\t</g>\n",
       "</g>\n",
       "<g color=\"black\" fill=\"none\" stroke=\"currentColor\" stroke-linecap=\"butt\" stroke-linejoin=\"miter\" stroke-width=\"0.50\">\n",
       "\t<path d=\"M30.8,408.0 L30.8,399.6 M30.8,11.3 L30.8,19.7  \" stroke=\"black\"/>\t<g fill=\"rgb(0,0,0)\" font-family=\"{}\" font-size=\"10.00\" stroke=\"none\" text-anchor=\"middle\" transform=\"translate(30.8,423.7)\">\n",
       "\t\t<text><tspan font-family=\"{}\">30</tspan></text>\n",
       "\t</g>\n",
       "</g>\n",
       "<g color=\"black\" fill=\"none\" stroke=\"currentColor\" stroke-linecap=\"butt\" stroke-linejoin=\"miter\" stroke-width=\"0.50\">\n",
       "\t<path d=\"M106.3,408.0 L106.3,399.6 M106.3,11.3 L106.3,19.7  \" stroke=\"black\"/>\t<g fill=\"rgb(0,0,0)\" font-family=\"{}\" font-size=\"10.00\" stroke=\"none\" text-anchor=\"middle\" transform=\"translate(106.3,423.7)\">\n",
       "\t\t<text><tspan font-family=\"{}\">40</tspan></text>\n",
       "\t</g>\n",
       "</g>\n",
       "<g color=\"black\" fill=\"none\" stroke=\"currentColor\" stroke-linecap=\"butt\" stroke-linejoin=\"miter\" stroke-width=\"0.50\">\n",
       "\t<path d=\"M181.7,408.0 L181.7,399.6 M181.7,11.3 L181.7,19.7  \" stroke=\"black\"/>\t<g fill=\"rgb(0,0,0)\" font-family=\"{}\" font-size=\"10.00\" stroke=\"none\" text-anchor=\"middle\" transform=\"translate(181.7,423.7)\">\n",
       "\t\t<text><tspan font-family=\"{}\">50</tspan></text>\n",
       "\t</g>\n",
       "</g>\n",
       "<g color=\"black\" fill=\"none\" stroke=\"currentColor\" stroke-linecap=\"butt\" stroke-linejoin=\"miter\" stroke-width=\"0.50\">\n",
       "\t<path d=\"M257.2,408.0 L257.2,399.6 M257.2,11.3 L257.2,19.7  \" stroke=\"black\"/>\t<g fill=\"rgb(0,0,0)\" font-family=\"{}\" font-size=\"10.00\" stroke=\"none\" text-anchor=\"middle\" transform=\"translate(257.2,423.7)\">\n",
       "\t\t<text><tspan font-family=\"{}\">60</tspan></text>\n",
       "\t</g>\n",
       "</g>\n",
       "<g color=\"black\" fill=\"none\" stroke=\"currentColor\" stroke-linecap=\"butt\" stroke-linejoin=\"miter\" stroke-width=\"0.50\">\n",
       "\t<path d=\"M332.7,408.0 L332.7,399.6 M332.7,11.3 L332.7,19.7  \" stroke=\"black\"/>\t<g fill=\"rgb(0,0,0)\" font-family=\"{}\" font-size=\"10.00\" stroke=\"none\" text-anchor=\"middle\" transform=\"translate(332.7,423.7)\">\n",
       "\t\t<text><tspan font-family=\"{}\">70</tspan></text>\n",
       "\t</g>\n",
       "</g>\n",
       "<g color=\"black\" fill=\"none\" stroke=\"currentColor\" stroke-linecap=\"butt\" stroke-linejoin=\"miter\" stroke-width=\"0.50\">\n",
       "\t<path d=\"M408.2,408.0 L408.2,399.6 M408.2,11.3 L408.2,19.7  \" stroke=\"black\"/>\t<g fill=\"rgb(0,0,0)\" font-family=\"{}\" font-size=\"10.00\" stroke=\"none\" text-anchor=\"middle\" transform=\"translate(408.2,423.7)\">\n",
       "\t\t<text><tspan font-family=\"{}\">80</tspan></text>\n",
       "\t</g>\n",
       "</g>\n",
       "<g color=\"black\" fill=\"none\" stroke=\"currentColor\" stroke-linecap=\"butt\" stroke-linejoin=\"miter\" stroke-width=\"0.50\">\n",
       "\t<path d=\"M483.6,408.0 L483.6,399.6 M483.6,11.3 L483.6,19.7  \" stroke=\"black\"/>\t<g fill=\"rgb(0,0,0)\" font-family=\"{}\" font-size=\"10.00\" stroke=\"none\" text-anchor=\"middle\" transform=\"translate(483.6,423.7)\">\n",
       "\t\t<text><tspan font-family=\"{}\">90</tspan></text>\n",
       "\t</g>\n",
       "</g>\n",
       "<g color=\"black\" fill=\"none\" stroke=\"currentColor\" stroke-linecap=\"butt\" stroke-linejoin=\"miter\" stroke-width=\"0.50\">\n",
       "\t<path d=\"M559.1,408.0 L559.1,399.6 M559.1,11.3 L559.1,19.7  \" stroke=\"black\"/>\t<g fill=\"rgb(0,0,0)\" font-family=\"{}\" font-size=\"10.00\" stroke=\"none\" text-anchor=\"middle\" transform=\"translate(559.1,423.7)\">\n",
       "\t\t<text><tspan font-family=\"{}\">100</tspan></text>\n",
       "\t</g>\n",
       "</g>\n",
       "<g color=\"black\" fill=\"none\" stroke=\"currentColor\" stroke-linecap=\"butt\" stroke-linejoin=\"miter\" stroke-width=\"0.50\">\n",
       "</g>\n",
       "<g color=\"black\" fill=\"none\" stroke=\"currentColor\" stroke-linecap=\"butt\" stroke-linejoin=\"miter\" stroke-width=\"0.50\">\n",
       "\t<path d=\"M30.8,11.3 L30.8,408.0 L559.1,408.0 L559.1,11.3 L30.8,11.3 Z  \" stroke=\"black\"/></g>\n",
       "<g color=\"black\" fill=\"none\" stroke=\"currentColor\" stroke-linecap=\"butt\" stroke-linejoin=\"miter\" stroke-width=\"0.50\">\n",
       "</g>\n",
       "\t<g id=\"gnuplot_plot_1a\"><title>gnuplot_plot_1a</title>\n",
       "<g color=\"white\" fill=\"none\" stroke=\"black\" stroke-linecap=\"butt\" stroke-linejoin=\"miter\" stroke-width=\"2.00\">\n",
       "</g>\n",
       "<g color=\"black\" fill=\"none\" stroke=\"currentColor\" stroke-linecap=\"butt\" stroke-linejoin=\"miter\" stroke-width=\"2.00\">\n",
       "\t<g onmousemove=\"gnuplot_svg.showHypertext(evt,'')\" onmouseout=\"gnuplot_svg.hideHypertext()\"><title> </title>\n",
       "\t<use color=\"rgb(  0,   0,   0)\" transform=\"translate(258.6,88.9) scale(7.00)\" xlink:href=\"#gpPt0\"/></g>\n",
       "\t<use color=\"rgb(  0,   0,   0)\" transform=\"translate(400.9,151.0) scale(7.00)\" xlink:href=\"#gpPt0\"/>\n",
       "\t<use color=\"rgb(  0,   0,   0)\" transform=\"translate(265.6,31.1) scale(7.00)\" xlink:href=\"#gpPt0\"/>\n",
       "\t<use color=\"rgb(  0,   0,   0)\" transform=\"translate(370.6,314.2) scale(7.00)\" xlink:href=\"#gpPt0\"/>\n",
       "\t<use color=\"rgb(  0,   0,   0)\" transform=\"translate(378.7,82.6) scale(7.00)\" xlink:href=\"#gpPt0\"/>\n",
       "\t<use color=\"rgb(  0,   0,   0)\" transform=\"translate(441.6,331.3) scale(7.00)\" xlink:href=\"#gpPt0\"/>\n",
       "\t<use color=\"rgb(  0,   0,   0)\" transform=\"translate(425.6,144.6) scale(7.00)\" xlink:href=\"#gpPt0\"/>\n",
       "\t<use color=\"rgb(  0,   0,   0)\" transform=\"translate(327.9,24.2) scale(7.00)\" xlink:href=\"#gpPt0\"/>\n",
       "\t<use color=\"rgb(  0,   0,   0)\" transform=\"translate(211.7,72.5) scale(7.00)\" xlink:href=\"#gpPt0\"/>\n",
       "\t<use color=\"rgb(  0,   0,   0)\" transform=\"translate(325.7,279.1) scale(7.00)\" xlink:href=\"#gpPt0\"/>\n",
       "\t<use color=\"rgb(  0,   0,   0)\" transform=\"translate(337.7,51.4) scale(7.00)\" xlink:href=\"#gpPt0\"/>\n",
       "\t<use color=\"rgb(  0,   0,   0)\" transform=\"translate(385.4,308.4) scale(7.00)\" xlink:href=\"#gpPt0\"/>\n",
       "\t<use color=\"rgb(  0,   0,   0)\" transform=\"translate(481.2,205.1) scale(7.00)\" xlink:href=\"#gpPt0\"/>\n",
       "\t<use color=\"rgb(  0,   0,   0)\" transform=\"translate(392.5,187.1) scale(7.00)\" xlink:href=\"#gpPt0\"/>\n",
       "\t<use color=\"rgb(  0,   0,   0)\" transform=\"translate(274.4,181.6) scale(7.00)\" xlink:href=\"#gpPt0\"/>\n",
       "\t<use color=\"rgb(  0,   0,   0)\" transform=\"translate(409.6,324.0) scale(7.00)\" xlink:href=\"#gpPt0\"/>\n",
       "\t<use color=\"rgb(  0,   0,   0)\" transform=\"translate(267.6,165.4) scale(7.00)\" xlink:href=\"#gpPt0\"/>\n",
       "\t<use color=\"rgb(  0,   0,   0)\" transform=\"translate(448.9,254.7) scale(7.00)\" xlink:href=\"#gpPt0\"/>\n",
       "\t<use color=\"rgb(  0,   0,   0)\" transform=\"translate(197.2,184.5) scale(7.00)\" xlink:href=\"#gpPt0\"/>\n",
       "\t<use color=\"rgb(  0,   0,   0)\" transform=\"translate(288.7,119.5) scale(7.00)\" xlink:href=\"#gpPt0\"/>\n",
       "\t<use color=\"rgb(  0,   0,   0)\" transform=\"translate(437.6,258.9) scale(7.00)\" xlink:href=\"#gpPt0\"/>\n",
       "\t<use color=\"rgb(  0,   0,   0)\" transform=\"translate(517.2,206.4) scale(7.00)\" xlink:href=\"#gpPt0\"/>\n",
       "\t<use color=\"rgb(  0,   0,   0)\" transform=\"translate(387.0,178.7) scale(7.00)\" xlink:href=\"#gpPt0\"/>\n",
       "\t<use color=\"rgb(  0,   0,   0)\" transform=\"translate(542.3,86.5) scale(7.00)\" xlink:href=\"#gpPt0\"/>\n",
       "\t<use color=\"rgb(  0,   0,   0)\" transform=\"translate(272.9,29.6) scale(7.00)\" xlink:href=\"#gpPt0\"/>\n",
       "\t<use color=\"rgb(  0,   0,   0)\" transform=\"translate(495.4,75.4) scale(7.00)\" xlink:href=\"#gpPt0\"/>\n",
       "\t<use color=\"rgb(  0,   0,   0)\" transform=\"translate(407.7,157.7) scale(7.00)\" xlink:href=\"#gpPt0\"/>\n",
       "\t<use color=\"rgb(  0,   0,   0)\" transform=\"translate(553.6,232.3) scale(7.00)\" xlink:href=\"#gpPt0\"/>\n",
       "\t<use color=\"rgb(  0,   0,   0)\" transform=\"translate(487.8,332.1) scale(7.00)\" xlink:href=\"#gpPt0\"/>\n",
       "\t<use color=\"rgb(  0,   0,   0)\" transform=\"translate(541.3,187.8) scale(7.00)\" xlink:href=\"#gpPt0\"/>\n",
       "\t<use color=\"rgb(  0,   0,   0)\" transform=\"translate(364.8,182.3) scale(7.00)\" xlink:href=\"#gpPt0\"/>\n",
       "\t<use color=\"rgb(  0,   0,   0)\" transform=\"translate(346.2,133.4) scale(7.00)\" xlink:href=\"#gpPt0\"/>\n",
       "\t<use color=\"rgb(  0,   0,   0)\" transform=\"translate(373.4,92.0) scale(7.00)\" xlink:href=\"#gpPt0\"/>\n",
       "\t<use color=\"rgb(  0,   0,   0)\" transform=\"translate(109.7,25.3) scale(7.00)\" xlink:href=\"#gpPt0\"/>\n",
       "\t<use color=\"rgb(  0,   0,   0)\" transform=\"translate(410.3,56.0) scale(7.00)\" xlink:href=\"#gpPt0\"/>\n",
       "\t<use color=\"rgb(  0,   0,   0)\" transform=\"translate(308.1,232.4) scale(7.00)\" xlink:href=\"#gpPt0\"/>\n",
       "\t<use color=\"rgb(  0,   0,   0)\" transform=\"translate(287.7,135.8) scale(7.00)\" xlink:href=\"#gpPt0\"/>\n",
       "\t<use color=\"rgb(  0,   0,   0)\" transform=\"translate(350.4,32.7) scale(7.00)\" xlink:href=\"#gpPt0\"/>\n",
       "\t<use color=\"rgb(  0,   0,   0)\" transform=\"translate(260.7,163.8) scale(7.00)\" xlink:href=\"#gpPt0\"/>\n",
       "\t<use color=\"rgb(  0,   0,   0)\" transform=\"translate(248.5,148.1) scale(7.00)\" xlink:href=\"#gpPt0\"/>\n",
       "\t<use color=\"rgb(  0,   0,   0)\" transform=\"translate(557.8,167.9) scale(7.00)\" xlink:href=\"#gpPt0\"/>\n",
       "\t<use color=\"rgb(  0,   0,   0)\" transform=\"translate(161.1,76.6) scale(7.00)\" xlink:href=\"#gpPt0\"/>\n",
       "\t<use color=\"rgb(  0,   0,   0)\" transform=\"translate(185.2,148.4) scale(7.00)\" xlink:href=\"#gpPt0\"/>\n",
       "\t<use color=\"rgb(  0,   0,   0)\" transform=\"translate(475.4,182.4) scale(7.00)\" xlink:href=\"#gpPt0\"/>\n",
       "\t<use color=\"rgb(  0,   0,   0)\" transform=\"translate(520.1,319.1) scale(7.00)\" xlink:href=\"#gpPt0\"/>\n",
       "\t<use color=\"rgb(  0,   0,   0)\" transform=\"translate(312.5,200.6) scale(7.00)\" xlink:href=\"#gpPt0\"/>\n",
       "\t<use color=\"rgb(  0,   0,   0)\" transform=\"translate(236.4,240.7) scale(7.00)\" xlink:href=\"#gpPt0\"/>\n",
       "\t<use color=\"rgb(  0,   0,   0)\" transform=\"translate(410.9,62.5) scale(7.00)\" xlink:href=\"#gpPt0\"/>\n",
       "\t<use color=\"rgb(  0,   0,   0)\" transform=\"translate(321.1,92.9) scale(7.00)\" xlink:href=\"#gpPt0\"/>\n",
       "\t<use color=\"rgb(  0,   0,   0)\" transform=\"translate(374.0,65.6) scale(7.00)\" xlink:href=\"#gpPt0\"/>\n",
       "\t<use color=\"rgb(  0,   0,   0)\" transform=\"translate(397.9,30.3) scale(7.00)\" xlink:href=\"#gpPt0\"/>\n",
       "\t<use color=\"rgb(  0,   0,   0)\" transform=\"translate(514.5,140.7) scale(7.00)\" xlink:href=\"#gpPt0\"/>\n",
       "\t<use color=\"rgb(  0,   0,   0)\" transform=\"translate(487.0,82.1) scale(7.00)\" xlink:href=\"#gpPt0\"/>\n",
       "\t<use color=\"rgb(  0,   0,   0)\" transform=\"translate(366.6,97.2) scale(7.00)\" xlink:href=\"#gpPt0\"/>\n",
       "\t<use color=\"rgb(  0,   0,   0)\" transform=\"translate(482.5,321.0) scale(7.00)\" xlink:href=\"#gpPt0\"/>\n",
       "\t<use color=\"rgb(  0,   0,   0)\" transform=\"translate(434.5,303.8) scale(7.00)\" xlink:href=\"#gpPt0\"/>\n",
       "\t<use color=\"rgb(  0,   0,   0)\" transform=\"translate(123.3,84.4) scale(7.00)\" xlink:href=\"#gpPt0\"/>\n",
       "\t<use color=\"rgb(  0,   0,   0)\" transform=\"translate(553.9,188.3) scale(7.00)\" xlink:href=\"#gpPt0\"/>\n",
       "\t<use color=\"rgb(  0,   0,   0)\" transform=\"translate(222.0,210.0) scale(7.00)\" xlink:href=\"#gpPt0\"/>\n",
       "\t<use color=\"rgb(  0,   0,   0)\" transform=\"translate(368.7,70.6) scale(7.00)\" xlink:href=\"#gpPt0\"/>\n",
       "</g>\n",
       "\t</g>\n",
       "\t<g id=\"gnuplot_plot_2a\"><title>gnuplot_plot_2a</title>\n",
       "<g color=\"white\" fill=\"none\" stroke=\"rgb(  0,   0,   0)\" stroke-linecap=\"butt\" stroke-linejoin=\"miter\" stroke-width=\"1.00\">\n",
       "</g>\n",
       "<g color=\"black\" fill=\"none\" stroke=\"currentColor\" stroke-linecap=\"butt\" stroke-linejoin=\"miter\" stroke-width=\"1.00\">\n",
       "\t<g onmousemove=\"gnuplot_svg.showHypertext(evt,'')\" onmouseout=\"gnuplot_svg.hideHypertext()\"><title> </title>\n",
       "\t<use color=\"rgb(255, 255,   0)\" transform=\"translate(65.7,135.8) scale(7.00)\" xlink:href=\"#gpPt6\"/></g>\n",
       "\t<use color=\"rgb(255, 255,   0)\" transform=\"translate(33.0,329.3) scale(7.00)\" xlink:href=\"#gpPt6\"/>\n",
       "\t<use color=\"rgb(255, 255,   0)\" transform=\"translate(74.9,164.9) scale(7.00)\" xlink:href=\"#gpPt6\"/>\n",
       "\t<use color=\"rgb(255, 255,   0)\" transform=\"translate(144.6,258.9) scale(7.00)\" xlink:href=\"#gpPt6\"/>\n",
       "\t<use color=\"rgb(255, 255,   0)\" transform=\"translate(527.9,361.4) scale(7.00)\" xlink:href=\"#gpPt6\"/>\n",
       "\t<use color=\"rgb(255, 255,   0)\" transform=\"translate(370.5,404.6) scale(7.00)\" xlink:href=\"#gpPt6\"/>\n",
       "\t<use color=\"rgb(255, 255,   0)\" transform=\"translate(102.8,147.1) scale(7.00)\" xlink:href=\"#gpPt6\"/>\n",
       "\t<use color=\"rgb(255, 255,   0)\" transform=\"translate(317.2,313.5) scale(7.00)\" xlink:href=\"#gpPt6\"/>\n",
       "\t<use color=\"rgb(255, 255,   0)\" transform=\"translate(312.9,335.2) scale(7.00)\" xlink:href=\"#gpPt6\"/>\n",
       "\t<use color=\"rgb(255, 255,   0)\" transform=\"translate(185.8,301.1) scale(7.00)\" xlink:href=\"#gpPt6\"/>\n",
       "\t<use color=\"rgb(255, 255,   0)\" transform=\"translate(62.6,327.5) scale(7.00)\" xlink:href=\"#gpPt6\"/>\n",
       "\t<use color=\"rgb(255, 255,   0)\" transform=\"translate(507.1,358.1) scale(7.00)\" xlink:href=\"#gpPt6\"/>\n",
       "\t<use color=\"rgb(255, 255,   0)\" transform=\"translate(271.0,293.2) scale(7.00)\" xlink:href=\"#gpPt6\"/>\n",
       "\t<use color=\"rgb(255, 255,   0)\" transform=\"translate(97.1,209.7) scale(7.00)\" xlink:href=\"#gpPt6\"/>\n",
       "\t<use color=\"rgb(255, 255,   0)\" transform=\"translate(197.7,220.3) scale(7.00)\" xlink:href=\"#gpPt6\"/>\n",
       "\t<use color=\"rgb(255, 255,   0)\" transform=\"translate(108.1,174.7) scale(7.00)\" xlink:href=\"#gpPt6\"/>\n",
       "\t<use color=\"rgb(255, 255,   0)\" transform=\"translate(216.7,282.1) scale(7.00)\" xlink:href=\"#gpPt6\"/>\n",
       "\t<use color=\"rgb(255, 255,   0)\" transform=\"translate(60.4,17.7) scale(7.00)\" xlink:href=\"#gpPt6\"/>\n",
       "\t<use color=\"rgb(255, 255,   0)\" transform=\"translate(368.8,342.4) scale(7.00)\" xlink:href=\"#gpPt6\"/>\n",
       "\t<use color=\"rgb(255, 255,   0)\" transform=\"translate(62.4,151.6) scale(7.00)\" xlink:href=\"#gpPt6\"/>\n",
       "\t<use color=\"rgb(255, 255,   0)\" transform=\"translate(193.4,312.5) scale(7.00)\" xlink:href=\"#gpPt6\"/>\n",
       "\t<use color=\"rgb(255, 255,   0)\" transform=\"translate(426.0,347.8) scale(7.00)\" xlink:href=\"#gpPt6\"/>\n",
       "\t<use color=\"rgb(255, 255,   0)\" transform=\"translate(189.7,318.3) scale(7.00)\" xlink:href=\"#gpPt6\"/>\n",
       "\t<use color=\"rgb(255, 255,   0)\" transform=\"translate(274.0,283.0) scale(7.00)\" xlink:href=\"#gpPt6\"/>\n",
       "\t<use color=\"rgb(255, 255,   0)\" transform=\"translate(64.9,235.7) scale(7.00)\" xlink:href=\"#gpPt6\"/>\n",
       "\t<use color=\"rgb(255, 255,   0)\" transform=\"translate(183.9,295.8) scale(7.00)\" xlink:href=\"#gpPt6\"/>\n",
       "\t<use color=\"rgb(255, 255,   0)\" transform=\"translate(178.6,239.1) scale(7.00)\" xlink:href=\"#gpPt6\"/>\n",
       "\t<use color=\"rgb(255, 255,   0)\" transform=\"translate(50.3,36.2) scale(7.00)\" xlink:href=\"#gpPt6\"/>\n",
       "\t<use color=\"rgb(255, 255,   0)\" transform=\"translate(70.7,311.5) scale(7.00)\" xlink:href=\"#gpPt6\"/>\n",
       "\t<use color=\"rgb(255, 255,   0)\" transform=\"translate(228.9,355.5) scale(7.00)\" xlink:href=\"#gpPt6\"/>\n",
       "\t<use color=\"rgb(255, 255,   0)\" transform=\"translate(31.2,297.0) scale(7.00)\" xlink:href=\"#gpPt6\"/>\n",
       "\t<use color=\"rgb(255, 255,   0)\" transform=\"translate(141.5,201.4) scale(7.00)\" xlink:href=\"#gpPt6\"/>\n",
       "\t<use color=\"rgb(255, 255,   0)\" transform=\"translate(306.7,345.1) scale(7.00)\" xlink:href=\"#gpPt6\"/>\n",
       "\t<use color=\"rgb(255, 255,   0)\" transform=\"translate(174.7,284.0) scale(7.00)\" xlink:href=\"#gpPt6\"/>\n",
       "\t<use color=\"rgb(255, 255,   0)\" transform=\"translate(51.3,332.6) scale(7.00)\" xlink:href=\"#gpPt6\"/>\n",
       "\t<use color=\"rgb(255, 255,   0)\" transform=\"translate(260.7,337.1) scale(7.00)\" xlink:href=\"#gpPt6\"/>\n",
       "\t<use color=\"rgb(255, 255,   0)\" transform=\"translate(425.0,335.9) scale(7.00)\" xlink:href=\"#gpPt6\"/>\n",
       "\t<use color=\"rgb(255, 255,   0)\" transform=\"translate(121.9,131.2) scale(7.00)\" xlink:href=\"#gpPt6\"/>\n",
       "\t<use color=\"rgb(255, 255,   0)\" transform=\"translate(199.5,233.6) scale(7.00)\" xlink:href=\"#gpPt6\"/>\n",
       "\t<use color=\"rgb(255, 255,   0)\" transform=\"translate(223.1,376.4) scale(7.00)\" xlink:href=\"#gpPt6\"/>\n",
       "</g>\n",
       "\t</g>\n",
       "\t<g id=\"gnuplot_plot_3a\"><title>gnuplot_plot_3a</title>\n",
       "<g color=\"black\" fill=\"none\" stroke=\"currentColor\" stroke-linecap=\"butt\" stroke-linejoin=\"miter\" stroke-width=\"1.00\">\n",
       "\t<g onmousemove=\"gnuplot_svg.showHypertext(evt,'')\" onmouseout=\"gnuplot_svg.hideHypertext()\"><title> </title>\n",
       "\t<use color=\"rgb(  0,   0,   0)\" transform=\"translate(65.7,135.8) scale(7.00)\" xlink:href=\"#gpPt5\"/></g>\n",
       "\t<use color=\"rgb(  0,   0,   0)\" transform=\"translate(33.0,329.3) scale(7.00)\" xlink:href=\"#gpPt5\"/>\n",
       "\t<use color=\"rgb(  0,   0,   0)\" transform=\"translate(74.9,164.9) scale(7.00)\" xlink:href=\"#gpPt5\"/>\n",
       "\t<use color=\"rgb(  0,   0,   0)\" transform=\"translate(144.6,258.9) scale(7.00)\" xlink:href=\"#gpPt5\"/>\n",
       "\t<use color=\"rgb(  0,   0,   0)\" transform=\"translate(527.9,361.4) scale(7.00)\" xlink:href=\"#gpPt5\"/>\n",
       "\t<use color=\"rgb(  0,   0,   0)\" transform=\"translate(370.5,404.6) scale(7.00)\" xlink:href=\"#gpPt5\"/>\n",
       "\t<use color=\"rgb(  0,   0,   0)\" transform=\"translate(102.8,147.1) scale(7.00)\" xlink:href=\"#gpPt5\"/>\n",
       "\t<use color=\"rgb(  0,   0,   0)\" transform=\"translate(317.2,313.5) scale(7.00)\" xlink:href=\"#gpPt5\"/>\n",
       "\t<use color=\"rgb(  0,   0,   0)\" transform=\"translate(312.9,335.2) scale(7.00)\" xlink:href=\"#gpPt5\"/>\n",
       "\t<use color=\"rgb(  0,   0,   0)\" transform=\"translate(185.8,301.1) scale(7.00)\" xlink:href=\"#gpPt5\"/>\n",
       "\t<use color=\"rgb(  0,   0,   0)\" transform=\"translate(62.6,327.5) scale(7.00)\" xlink:href=\"#gpPt5\"/>\n",
       "\t<use color=\"rgb(  0,   0,   0)\" transform=\"translate(507.1,358.1) scale(7.00)\" xlink:href=\"#gpPt5\"/>\n",
       "\t<use color=\"rgb(  0,   0,   0)\" transform=\"translate(271.0,293.2) scale(7.00)\" xlink:href=\"#gpPt5\"/>\n",
       "\t<use color=\"rgb(  0,   0,   0)\" transform=\"translate(97.1,209.7) scale(7.00)\" xlink:href=\"#gpPt5\"/>\n",
       "\t<use color=\"rgb(  0,   0,   0)\" transform=\"translate(197.7,220.3) scale(7.00)\" xlink:href=\"#gpPt5\"/>\n",
       "\t<use color=\"rgb(  0,   0,   0)\" transform=\"translate(108.1,174.7) scale(7.00)\" xlink:href=\"#gpPt5\"/>\n",
       "\t<use color=\"rgb(  0,   0,   0)\" transform=\"translate(216.7,282.1) scale(7.00)\" xlink:href=\"#gpPt5\"/>\n",
       "\t<use color=\"rgb(  0,   0,   0)\" transform=\"translate(60.4,17.7) scale(7.00)\" xlink:href=\"#gpPt5\"/>\n",
       "\t<use color=\"rgb(  0,   0,   0)\" transform=\"translate(368.8,342.4) scale(7.00)\" xlink:href=\"#gpPt5\"/>\n",
       "\t<use color=\"rgb(  0,   0,   0)\" transform=\"translate(62.4,151.6) scale(7.00)\" xlink:href=\"#gpPt5\"/>\n",
       "\t<use color=\"rgb(  0,   0,   0)\" transform=\"translate(193.4,312.5) scale(7.00)\" xlink:href=\"#gpPt5\"/>\n",
       "\t<use color=\"rgb(  0,   0,   0)\" transform=\"translate(426.0,347.8) scale(7.00)\" xlink:href=\"#gpPt5\"/>\n",
       "\t<use color=\"rgb(  0,   0,   0)\" transform=\"translate(189.7,318.3) scale(7.00)\" xlink:href=\"#gpPt5\"/>\n",
       "\t<use color=\"rgb(  0,   0,   0)\" transform=\"translate(274.0,283.0) scale(7.00)\" xlink:href=\"#gpPt5\"/>\n",
       "\t<use color=\"rgb(  0,   0,   0)\" transform=\"translate(64.9,235.7) scale(7.00)\" xlink:href=\"#gpPt5\"/>\n",
       "\t<use color=\"rgb(  0,   0,   0)\" transform=\"translate(183.9,295.8) scale(7.00)\" xlink:href=\"#gpPt5\"/>\n",
       "\t<use color=\"rgb(  0,   0,   0)\" transform=\"translate(178.6,239.1) scale(7.00)\" xlink:href=\"#gpPt5\"/>\n",
       "\t<use color=\"rgb(  0,   0,   0)\" transform=\"translate(50.3,36.2) scale(7.00)\" xlink:href=\"#gpPt5\"/>\n",
       "\t<use color=\"rgb(  0,   0,   0)\" transform=\"translate(70.7,311.5) scale(7.00)\" xlink:href=\"#gpPt5\"/>\n",
       "\t<use color=\"rgb(  0,   0,   0)\" transform=\"translate(228.9,355.5) scale(7.00)\" xlink:href=\"#gpPt5\"/>\n",
       "\t<use color=\"rgb(  0,   0,   0)\" transform=\"translate(31.2,297.0) scale(7.00)\" xlink:href=\"#gpPt5\"/>\n",
       "\t<use color=\"rgb(  0,   0,   0)\" transform=\"translate(141.5,201.4) scale(7.00)\" xlink:href=\"#gpPt5\"/>\n",
       "\t<use color=\"rgb(  0,   0,   0)\" transform=\"translate(306.7,345.1) scale(7.00)\" xlink:href=\"#gpPt5\"/>\n",
       "\t<use color=\"rgb(  0,   0,   0)\" transform=\"translate(174.7,284.0) scale(7.00)\" xlink:href=\"#gpPt5\"/>\n",
       "\t<use color=\"rgb(  0,   0,   0)\" transform=\"translate(51.3,332.6) scale(7.00)\" xlink:href=\"#gpPt5\"/>\n",
       "\t<use color=\"rgb(  0,   0,   0)\" transform=\"translate(260.7,337.1) scale(7.00)\" xlink:href=\"#gpPt5\"/>\n",
       "\t<use color=\"rgb(  0,   0,   0)\" transform=\"translate(425.0,335.9) scale(7.00)\" xlink:href=\"#gpPt5\"/>\n",
       "\t<use color=\"rgb(  0,   0,   0)\" transform=\"translate(121.9,131.2) scale(7.00)\" xlink:href=\"#gpPt5\"/>\n",
       "\t<use color=\"rgb(  0,   0,   0)\" transform=\"translate(199.5,233.6) scale(7.00)\" xlink:href=\"#gpPt5\"/>\n",
       "\t<use color=\"rgb(  0,   0,   0)\" transform=\"translate(223.1,376.4) scale(7.00)\" xlink:href=\"#gpPt5\"/>\n",
       "</g>\n",
       "\t</g>\n",
       "<g color=\"white\" fill=\"none\" stroke=\"rgb(  0,   0,   0)\" stroke-linecap=\"butt\" stroke-linejoin=\"miter\" stroke-width=\"2.00\">\n",
       "</g>\n",
       "<g color=\"black\" fill=\"none\" stroke=\"currentColor\" stroke-linecap=\"butt\" stroke-linejoin=\"miter\" stroke-width=\"2.00\">\n",
       "</g>\n",
       "<g color=\"black\" fill=\"none\" stroke=\"black\" stroke-linecap=\"butt\" stroke-linejoin=\"miter\" stroke-width=\"0.50\">\n",
       "</g>\n",
       "<g color=\"black\" fill=\"none\" stroke=\"currentColor\" stroke-linecap=\"butt\" stroke-linejoin=\"miter\" stroke-width=\"0.50\">\n",
       "</g>\n",
       "</g>\n",
       "</svg>"
      ],
      "text/plain": [
       "<IPython.core.display.SVG object>"
      ]
     },
     "metadata": {},
     "output_type": "display_data"
    }
   ],
   "source": [
    "hold on\n",
    "pos = find(y==1);\n",
    "plot(X(pos, 1), X(pos, 2), 'k+', 'LineWidth', 2, 'MarkerSize', 7);\n",
    "plot(X(neg, 1), X(neg, 2), 'ko', 'MarkerFaceColor', 'y', 'MarkerSize', 7);\n",
    "hold off"
   ]
  },
  {
   "cell_type": "code",
   "execution_count": null,
   "metadata": {
    "collapsed": true
   },
   "outputs": [],
   "source": []
  },
  {
   "cell_type": "code",
   "execution_count": null,
   "metadata": {
    "collapsed": true
   },
   "outputs": [],
   "source": []
  },
  {
   "cell_type": "code",
   "execution_count": null,
   "metadata": {
    "collapsed": true
   },
   "outputs": [],
   "source": []
  },
  {
   "cell_type": "code",
   "execution_count": null,
   "metadata": {
    "collapsed": true
   },
   "outputs": [],
   "source": []
  },
  {
   "cell_type": "code",
   "execution_count": null,
   "metadata": {
    "collapsed": true
   },
   "outputs": [],
   "source": []
  },
  {
   "cell_type": "code",
   "execution_count": null,
   "metadata": {
    "collapsed": true
   },
   "outputs": [],
   "source": []
  },
  {
   "cell_type": "code",
   "execution_count": null,
   "metadata": {
    "collapsed": true
   },
   "outputs": [],
   "source": []
  },
  {
   "cell_type": "code",
   "execution_count": null,
   "metadata": {
    "collapsed": true
   },
   "outputs": [],
   "source": []
  },
  {
   "cell_type": "code",
   "execution_count": null,
   "metadata": {
    "collapsed": true
   },
   "outputs": [],
   "source": []
  },
  {
   "cell_type": "code",
   "execution_count": null,
   "metadata": {
    "collapsed": true
   },
   "outputs": [],
   "source": []
  },
  {
   "cell_type": "code",
   "execution_count": null,
   "metadata": {
    "collapsed": true
   },
   "outputs": [],
   "source": []
  },
  {
   "cell_type": "code",
   "execution_count": null,
   "metadata": {
    "collapsed": true
   },
   "outputs": [],
   "source": []
  },
  {
   "cell_type": "code",
   "execution_count": null,
   "metadata": {
    "collapsed": true
   },
   "outputs": [],
   "source": []
  },
  {
   "cell_type": "code",
   "execution_count": null,
   "metadata": {
    "collapsed": true
   },
   "outputs": [],
   "source": []
  },
  {
   "cell_type": "code",
   "execution_count": null,
   "metadata": {
    "collapsed": true
   },
   "outputs": [],
   "source": []
  },
  {
   "cell_type": "code",
   "execution_count": null,
   "metadata": {
    "collapsed": true
   },
   "outputs": [],
   "source": []
  },
  {
   "cell_type": "code",
   "execution_count": null,
   "metadata": {
    "collapsed": true
   },
   "outputs": [],
   "source": []
  },
  {
   "cell_type": "code",
   "execution_count": null,
   "metadata": {
    "collapsed": true
   },
   "outputs": [],
   "source": []
  }
 ],
 "metadata": {
  "kernelspec": {
   "display_name": "Octave",
   "language": "octave",
   "name": "octave"
  },
  "language_info": {
   "file_extension": ".m",
   "help_links": [
    {
     "text": "MetaKernel Magics",
     "url": "https://github.com/calysto/metakernel/blob/master/metakernel/magics/README.md"
    }
   ],
   "mimetype": "text/x-octave",
   "name": "octave",
   "version": "0.16.0"
  }
 },
 "nbformat": 4,
 "nbformat_minor": 0
}
